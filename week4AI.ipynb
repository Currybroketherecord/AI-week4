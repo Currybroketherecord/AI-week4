{
  "nbformat": 4,
  "nbformat_minor": 0,
  "metadata": {
    "colab": {
      "provenance": [],
      "authorship_tag": "ABX9TyNuyKWtuFfTxhlCOB/1rA1V",
      "include_colab_link": true
    },
    "kernelspec": {
      "name": "python3",
      "display_name": "Python 3"
    },
    "language_info": {
      "name": "python"
    }
  },
  "cells": [
    {
      "cell_type": "markdown",
      "metadata": {
        "id": "view-in-github",
        "colab_type": "text"
      },
      "source": [
        "<a href=\"https://colab.research.google.com/github/Currybroketherecord/AI-week4/blob/main/week4AI.ipynb\" target=\"_parent\"><img src=\"https://colab.research.google.com/assets/colab-badge.svg\" alt=\"Open In Colab\"/></a>"
      ]
    },
    {
      "cell_type": "code",
      "execution_count": 1,
      "metadata": {
        "colab": {
          "base_uri": "https://localhost:8080/"
        },
        "id": "RbionUBr12em",
        "outputId": "f8866038-b063-42e9-e5a0-2dd945823748"
      },
      "outputs": [
        {
          "output_type": "stream",
          "name": "stdout",
          "text": [
            "AI-Sorted: [{'name': 'SensorB'}, {'name': 'SensorC', 'priority': 1}, {'name': 'SensorA', 'priority': 3}]\n",
            "Manual-Sorted: [{'name': 'SensorB'}, {'name': 'SensorC', 'priority': 1}, {'name': 'SensorA', 'priority': 3}]\n"
          ]
        }
      ],
      "source": [
        "\"\"\"\n",
        "Task 1: Sort a list of dictionaries by a specified key.\n",
        "Includes both AI-suggested and manual implementations.\n",
        "\"\"\"\n",
        "\n",
        "# ✅ AI-Suggested Function\n",
        "def sort_dicts_by_key_ai(data, key):\n",
        "    \"\"\"\n",
        "    Sorts a list of dictionaries using dict.get() for default values.\n",
        "    Args:\n",
        "        data (list): List of dictionaries.\n",
        "        key (str): Key to sort by.\n",
        "    Returns:\n",
        "        list: Sorted list.\n",
        "    \"\"\"\n",
        "    return sorted(data, key=lambda x: x.get(key, 0))\n",
        "\n",
        "# ✍️ Manual Implementation\n",
        "def sort_dicts_by_key_manual(data, key):\n",
        "    \"\"\"\n",
        "    Sorts a list of dictionaries with explicit key handling.\n",
        "    Args:\n",
        "        data (list): List of dictionaries.\n",
        "        key (str): Key to sort by.\n",
        "    Returns:\n",
        "        list: Sorted list.\n",
        "    \"\"\"\n",
        "    def key_func(d):\n",
        "        return d[key] if key in d else 0\n",
        "    return sorted(data, key=key_func)\n",
        "\n",
        "# 💡 Example Usage\n",
        "if __name__ == \"__main__\":\n",
        "    sample_data = [\n",
        "        {'name': 'SensorA', 'priority': 3},\n",
        "        {'name': 'SensorB'},\n",
        "        {'name': 'SensorC', 'priority': 1}\n",
        "    ]\n",
        "\n",
        "    print(\"AI-Sorted:\", sort_dicts_by_key_ai(sample_data, 'priority'))\n",
        "    print(\"Manual-Sorted:\", sort_dicts_by_key_manual(sample_data, 'priority'))"
      ]
    },
    {
      "cell_type": "code",
      "source": [
        "\"\"\"\n",
        "Task 2: Automated Testing with AI\n",
        "Framework: Testim.io (conceptual Python-style pseudocode)\n",
        "Purpose: Test login functionality with valid and invalid credentials.\n",
        "\"\"\"\n",
        "\n",
        "def run_login_test():\n",
        "    # Simulate launching login page\n",
        "    print(\"Launching login page...\")\n",
        "\n",
        "    # ✅ Test with valid credentials\n",
        "    print(\"Testing valid login...\")\n",
        "    username = \"validUser\"\n",
        "    password = \"validPassword\"\n",
        "    if simulate_login(username, password) == \"dashboard\":\n",
        "        print(\"✅ Valid login successful\")\n",
        "    else:\n",
        "        print(\"❌ Valid login failed\")\n",
        "\n",
        "    # 🚫 Test with invalid credentials\n",
        "    print(\"Testing invalid login...\")\n",
        "    username = \"invalidUser\"\n",
        "    password = \"wrongPassword\"\n",
        "    if simulate_login(username, password) == \"error\":\n",
        "        print(\"✅ Error triggered correctly\")\n",
        "    else:\n",
        "        print(\"❌ Invalid login did not show error\")\n",
        "\n",
        "def simulate_login(username, password):\n",
        "    \"\"\"\n",
        "    Simulated login handler — replace with Testim script or Selenium logic.\n",
        "    \"\"\"\n",
        "    valid_db = {\"validUser\": \"validPassword\"}\n",
        "    if valid_db.get(username) == password:\n",
        "        return \"dashboard\"\n",
        "    else:\n",
        "        return \"error\"\n",
        "\n",
        "if __name__ == \"__main__\":\n",
        "    run_login_test()"
      ],
      "metadata": {
        "colab": {
          "base_uri": "https://localhost:8080/"
        },
        "id": "YE9CsUKj3cXJ",
        "outputId": "7767a63d-a7af-4a78-da1e-2dd419c52a5b"
      },
      "execution_count": 2,
      "outputs": [
        {
          "output_type": "stream",
          "name": "stdout",
          "text": [
            "Launching login page...\n",
            "Testing valid login...\n",
            "✅ Valid login successful\n",
            "Testing invalid login...\n",
            "✅ Error triggered correctly\n"
          ]
        }
      ]
    },
    {
      "cell_type": "code",
      "source": [
        "\"\"\"\n",
        "Task 3: Predictive Analytics for Resource Allocation\n",
        "Dataset: Kaggle Breast Cancer Diagnostic\n",
        "Goal: Predict priority labels using Random Forest\n",
        "\"\"\"\n",
        "\n",
        "import pandas as pd\n",
        "from sklearn.model_selection import train_test_split\n",
        "from sklearn.ensemble import RandomForestClassifier\n",
        "from sklearn.metrics import accuracy_score, f1_score\n",
        "\n",
        "# 📥 Load and preprocess data\n",
        "df = pd.read_csv('breast_cancer.csv')  # Replace with local path or Kaggle loader\n",
        "df.dropna(inplace=True)\n",
        "df['priority'] = df['diagnosis'].map({'M': 'high', 'B': 'low'})\n",
        "\n",
        "# 🚀 Prepare features\n",
        "X = df.drop(['priority', 'diagnosis'], axis=1)\n",
        "y = df['priority']\n",
        "\n",
        "X_train, X_test, y_train, y_test = train_test_split(X, y, test_size=0.2, random_state=42)\n",
        "\n",
        "# 🔧 Train the model\n",
        "model = RandomForestClassifier(random_state=42)\n",
        "model.fit(X_train, y_train)\n",
        "\n",
        "# 📈 Evaluate\n",
        "y_pred = model.predict(X_test)\n",
        "accuracy = accuracy_score(y_test, y_pred)\n",
        "f1 = f1_score(y_test, y_pred, average='weighted')\n",
        "\n",
        "print(f\"📊 Accuracy: {accuracy:.4f}\")\n",
        "print(f\"🎯 F1 Score: {f1:.4f}\")"
      ],
      "metadata": {
        "id": "ZRYzQXEH3lby"
      },
      "execution_count": null,
      "outputs": []
    },
    {
      "cell_type": "code",
      "source": [],
      "metadata": {
        "id": "r5q5m2aH3lJd"
      },
      "execution_count": null,
      "outputs": []
    }
  ]
}